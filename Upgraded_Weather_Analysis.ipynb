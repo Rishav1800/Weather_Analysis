{
 "cells": [
  {
   "cell_type": "code",
   "execution_count": 1,
   "id": "c499c814",
   "metadata": {},
   "outputs": [],
   "source": [
    "import pandas as pd"
   ]
  },
  {
   "cell_type": "code",
   "execution_count": 2,
   "id": "3494bbaa",
   "metadata": {},
   "outputs": [],
   "source": [
    "df = pd.read_csv(r\"F:\\Python_Files\\Dataset_for_practices\\Weather_Data.csv\")"
   ]
  },
  {
   "cell_type": "code",
   "execution_count": 3,
   "id": "efe822b8",
   "metadata": {},
   "outputs": [
    {
     "data": {
      "text/html": [
       "<div>\n",
       "<style scoped>\n",
       "    .dataframe tbody tr th:only-of-type {\n",
       "        vertical-align: middle;\n",
       "    }\n",
       "\n",
       "    .dataframe tbody tr th {\n",
       "        vertical-align: top;\n",
       "    }\n",
       "\n",
       "    .dataframe thead th {\n",
       "        text-align: right;\n",
       "    }\n",
       "</style>\n",
       "<table border=\"1\" class=\"dataframe\">\n",
       "  <thead>\n",
       "    <tr style=\"text-align: right;\">\n",
       "      <th></th>\n",
       "      <th>Date/Time</th>\n",
       "      <th>Temp_C</th>\n",
       "      <th>Dew Point Temp_C</th>\n",
       "      <th>Rel Hum_%</th>\n",
       "      <th>Wind Speed_km/h</th>\n",
       "      <th>Visibility_km</th>\n",
       "      <th>Press_kPa</th>\n",
       "      <th>Weather</th>\n",
       "    </tr>\n",
       "  </thead>\n",
       "  <tbody>\n",
       "    <tr>\n",
       "      <th>0</th>\n",
       "      <td>1-1-2012 0:00</td>\n",
       "      <td>-1.8</td>\n",
       "      <td>-3.9</td>\n",
       "      <td>86</td>\n",
       "      <td>4</td>\n",
       "      <td>8.0</td>\n",
       "      <td>101.24</td>\n",
       "      <td>Fog</td>\n",
       "    </tr>\n",
       "    <tr>\n",
       "      <th>1</th>\n",
       "      <td>1-1-2012 1:00</td>\n",
       "      <td>-1.8</td>\n",
       "      <td>-3.7</td>\n",
       "      <td>87</td>\n",
       "      <td>4</td>\n",
       "      <td>8.0</td>\n",
       "      <td>101.24</td>\n",
       "      <td>Fog</td>\n",
       "    </tr>\n",
       "    <tr>\n",
       "      <th>2</th>\n",
       "      <td>1-1-2012 2:00</td>\n",
       "      <td>-1.8</td>\n",
       "      <td>-3.4</td>\n",
       "      <td>89</td>\n",
       "      <td>7</td>\n",
       "      <td>4.0</td>\n",
       "      <td>101.26</td>\n",
       "      <td>Freezing Drizzle,Fog</td>\n",
       "    </tr>\n",
       "    <tr>\n",
       "      <th>3</th>\n",
       "      <td>1-1-2012 3:00</td>\n",
       "      <td>-1.5</td>\n",
       "      <td>-3.2</td>\n",
       "      <td>88</td>\n",
       "      <td>6</td>\n",
       "      <td>4.0</td>\n",
       "      <td>101.27</td>\n",
       "      <td>Freezing Drizzle,Fog</td>\n",
       "    </tr>\n",
       "    <tr>\n",
       "      <th>4</th>\n",
       "      <td>1-1-2012 4:00</td>\n",
       "      <td>-1.5</td>\n",
       "      <td>-3.3</td>\n",
       "      <td>88</td>\n",
       "      <td>7</td>\n",
       "      <td>4.8</td>\n",
       "      <td>101.23</td>\n",
       "      <td>Fog</td>\n",
       "    </tr>\n",
       "  </tbody>\n",
       "</table>\n",
       "</div>"
      ],
      "text/plain": [
       "       Date/Time  Temp_C  Dew Point Temp_C  Rel Hum_%  Wind Speed_km/h  \\\n",
       "0  1-1-2012 0:00    -1.8              -3.9         86                4   \n",
       "1  1-1-2012 1:00    -1.8              -3.7         87                4   \n",
       "2  1-1-2012 2:00    -1.8              -3.4         89                7   \n",
       "3  1-1-2012 3:00    -1.5              -3.2         88                6   \n",
       "4  1-1-2012 4:00    -1.5              -3.3         88                7   \n",
       "\n",
       "   Visibility_km  Press_kPa               Weather  \n",
       "0            8.0     101.24                   Fog  \n",
       "1            8.0     101.24                   Fog  \n",
       "2            4.0     101.26  Freezing Drizzle,Fog  \n",
       "3            4.0     101.27  Freezing Drizzle,Fog  \n",
       "4            4.8     101.23                   Fog  "
      ]
     },
     "execution_count": 3,
     "metadata": {},
     "output_type": "execute_result"
    }
   ],
   "source": [
    "df.head()"
   ]
  },
  {
   "cell_type": "code",
   "execution_count": 4,
   "id": "9a7c5a0a",
   "metadata": {},
   "outputs": [
    {
     "name": "stdout",
     "output_type": "stream",
     "text": [
      "<class 'pandas.core.frame.DataFrame'>\n",
      "RangeIndex: 8784 entries, 0 to 8783\n",
      "Data columns (total 8 columns):\n",
      " #   Column            Non-Null Count  Dtype  \n",
      "---  ------            --------------  -----  \n",
      " 0   Date/Time         8784 non-null   object \n",
      " 1   Temp_C            8784 non-null   float64\n",
      " 2   Dew Point Temp_C  8784 non-null   float64\n",
      " 3   Rel Hum_%         8784 non-null   int64  \n",
      " 4   Wind Speed_km/h   8784 non-null   int64  \n",
      " 5   Visibility_km     8784 non-null   float64\n",
      " 6   Press_kPa         8784 non-null   float64\n",
      " 7   Weather           8784 non-null   object \n",
      "dtypes: float64(4), int64(2), object(2)\n",
      "memory usage: 549.1+ KB\n"
     ]
    }
   ],
   "source": [
    "df.info()"
   ]
  },
  {
   "cell_type": "code",
   "execution_count": 5,
   "id": "f2c69615",
   "metadata": {},
   "outputs": [],
   "source": [
    "# Converting the datatype of date/Time(object) to datetime datatype\n",
    "\n",
    "df['Date/Time'] = pd.to_datetime(df['Date/Time'])"
   ]
  },
  {
   "cell_type": "code",
   "execution_count": 6,
   "id": "0ecc80da",
   "metadata": {},
   "outputs": [
    {
     "data": {
      "text/plain": [
       "Date/Time           datetime64[ns]\n",
       "Temp_C                     float64\n",
       "Dew Point Temp_C           float64\n",
       "Rel Hum_%                    int64\n",
       "Wind Speed_km/h              int64\n",
       "Visibility_km              float64\n",
       "Press_kPa                  float64\n",
       "Weather                     object\n",
       "dtype: object"
      ]
     },
     "execution_count": 6,
     "metadata": {},
     "output_type": "execute_result"
    }
   ],
   "source": [
    "# Checking datatypes\n",
    "\n",
    "df.dtypes"
   ]
  },
  {
   "cell_type": "code",
   "execution_count": 7,
   "id": "e9efadf8",
   "metadata": {},
   "outputs": [],
   "source": [
    "# Adding a column year\n",
    "\n",
    "df['Year'] = df['Date/Time'].dt.year"
   ]
  },
  {
   "cell_type": "code",
   "execution_count": 8,
   "id": "69710a88",
   "metadata": {},
   "outputs": [
    {
     "data": {
      "text/html": [
       "<div>\n",
       "<style scoped>\n",
       "    .dataframe tbody tr th:only-of-type {\n",
       "        vertical-align: middle;\n",
       "    }\n",
       "\n",
       "    .dataframe tbody tr th {\n",
       "        vertical-align: top;\n",
       "    }\n",
       "\n",
       "    .dataframe thead th {\n",
       "        text-align: right;\n",
       "    }\n",
       "</style>\n",
       "<table border=\"1\" class=\"dataframe\">\n",
       "  <thead>\n",
       "    <tr style=\"text-align: right;\">\n",
       "      <th></th>\n",
       "      <th>Date/Time</th>\n",
       "      <th>Temp_C</th>\n",
       "      <th>Dew Point Temp_C</th>\n",
       "      <th>Rel Hum_%</th>\n",
       "      <th>Wind Speed_km/h</th>\n",
       "      <th>Visibility_km</th>\n",
       "      <th>Press_kPa</th>\n",
       "      <th>Weather</th>\n",
       "      <th>Year</th>\n",
       "    </tr>\n",
       "  </thead>\n",
       "  <tbody>\n",
       "    <tr>\n",
       "      <th>0</th>\n",
       "      <td>2012-01-01 00:00:00</td>\n",
       "      <td>-1.8</td>\n",
       "      <td>-3.9</td>\n",
       "      <td>86</td>\n",
       "      <td>4</td>\n",
       "      <td>8.0</td>\n",
       "      <td>101.24</td>\n",
       "      <td>Fog</td>\n",
       "      <td>2012</td>\n",
       "    </tr>\n",
       "    <tr>\n",
       "      <th>1</th>\n",
       "      <td>2012-01-01 01:00:00</td>\n",
       "      <td>-1.8</td>\n",
       "      <td>-3.7</td>\n",
       "      <td>87</td>\n",
       "      <td>4</td>\n",
       "      <td>8.0</td>\n",
       "      <td>101.24</td>\n",
       "      <td>Fog</td>\n",
       "      <td>2012</td>\n",
       "    </tr>\n",
       "  </tbody>\n",
       "</table>\n",
       "</div>"
      ],
      "text/plain": [
       "            Date/Time  Temp_C  Dew Point Temp_C  Rel Hum_%  Wind Speed_km/h  \\\n",
       "0 2012-01-01 00:00:00    -1.8              -3.9         86                4   \n",
       "1 2012-01-01 01:00:00    -1.8              -3.7         87                4   \n",
       "\n",
       "   Visibility_km  Press_kPa Weather  Year  \n",
       "0            8.0     101.24     Fog  2012  \n",
       "1            8.0     101.24     Fog  2012  "
      ]
     },
     "execution_count": 8,
     "metadata": {},
     "output_type": "execute_result"
    }
   ],
   "source": [
    "df.head(2)"
   ]
  },
  {
   "cell_type": "code",
   "execution_count": 9,
   "id": "0efdbd12",
   "metadata": {},
   "outputs": [],
   "source": [
    "# Inserting a column \"Month\" in the first index\n",
    "\n",
    "df.insert(1,'Month',df['Date/Time'].dt.month)"
   ]
  },
  {
   "cell_type": "code",
   "execution_count": 10,
   "id": "426a9bfa",
   "metadata": {},
   "outputs": [
    {
     "data": {
      "text/html": [
       "<div>\n",
       "<style scoped>\n",
       "    .dataframe tbody tr th:only-of-type {\n",
       "        vertical-align: middle;\n",
       "    }\n",
       "\n",
       "    .dataframe tbody tr th {\n",
       "        vertical-align: top;\n",
       "    }\n",
       "\n",
       "    .dataframe thead th {\n",
       "        text-align: right;\n",
       "    }\n",
       "</style>\n",
       "<table border=\"1\" class=\"dataframe\">\n",
       "  <thead>\n",
       "    <tr style=\"text-align: right;\">\n",
       "      <th></th>\n",
       "      <th>Date/Time</th>\n",
       "      <th>Month</th>\n",
       "      <th>Temp_C</th>\n",
       "      <th>Dew Point Temp_C</th>\n",
       "      <th>Rel Hum_%</th>\n",
       "      <th>Wind Speed_km/h</th>\n",
       "      <th>Visibility_km</th>\n",
       "      <th>Press_kPa</th>\n",
       "      <th>Weather</th>\n",
       "      <th>Year</th>\n",
       "    </tr>\n",
       "  </thead>\n",
       "  <tbody>\n",
       "    <tr>\n",
       "      <th>0</th>\n",
       "      <td>2012-01-01 00:00:00</td>\n",
       "      <td>1</td>\n",
       "      <td>-1.8</td>\n",
       "      <td>-3.9</td>\n",
       "      <td>86</td>\n",
       "      <td>4</td>\n",
       "      <td>8.0</td>\n",
       "      <td>101.24</td>\n",
       "      <td>Fog</td>\n",
       "      <td>2012</td>\n",
       "    </tr>\n",
       "    <tr>\n",
       "      <th>1</th>\n",
       "      <td>2012-01-01 01:00:00</td>\n",
       "      <td>1</td>\n",
       "      <td>-1.8</td>\n",
       "      <td>-3.7</td>\n",
       "      <td>87</td>\n",
       "      <td>4</td>\n",
       "      <td>8.0</td>\n",
       "      <td>101.24</td>\n",
       "      <td>Fog</td>\n",
       "      <td>2012</td>\n",
       "    </tr>\n",
       "  </tbody>\n",
       "</table>\n",
       "</div>"
      ],
      "text/plain": [
       "            Date/Time  Month  Temp_C  Dew Point Temp_C  Rel Hum_%  \\\n",
       "0 2012-01-01 00:00:00      1    -1.8              -3.9         86   \n",
       "1 2012-01-01 01:00:00      1    -1.8              -3.7         87   \n",
       "\n",
       "   Wind Speed_km/h  Visibility_km  Press_kPa Weather  Year  \n",
       "0                4            8.0     101.24     Fog  2012  \n",
       "1                4            8.0     101.24     Fog  2012  "
      ]
     },
     "execution_count": 10,
     "metadata": {},
     "output_type": "execute_result"
    }
   ],
   "source": [
    "df.head(2)"
   ]
  },
  {
   "cell_type": "code",
   "execution_count": 11,
   "id": "ea1d5f7b",
   "metadata": {},
   "outputs": [],
   "source": [
    "# Inserting a column \"Day\" in the first index\n",
    "\n",
    "df.insert(1,'Day',df['Date/Time'].dt.day)"
   ]
  },
  {
   "cell_type": "code",
   "execution_count": 12,
   "id": "6274e5e2",
   "metadata": {},
   "outputs": [
    {
     "data": {
      "text/html": [
       "<div>\n",
       "<style scoped>\n",
       "    .dataframe tbody tr th:only-of-type {\n",
       "        vertical-align: middle;\n",
       "    }\n",
       "\n",
       "    .dataframe tbody tr th {\n",
       "        vertical-align: top;\n",
       "    }\n",
       "\n",
       "    .dataframe thead th {\n",
       "        text-align: right;\n",
       "    }\n",
       "</style>\n",
       "<table border=\"1\" class=\"dataframe\">\n",
       "  <thead>\n",
       "    <tr style=\"text-align: right;\">\n",
       "      <th></th>\n",
       "      <th>Date/Time</th>\n",
       "      <th>Day</th>\n",
       "      <th>Month</th>\n",
       "      <th>Temp_C</th>\n",
       "      <th>Dew Point Temp_C</th>\n",
       "      <th>Rel Hum_%</th>\n",
       "      <th>Wind Speed_km/h</th>\n",
       "      <th>Visibility_km</th>\n",
       "      <th>Press_kPa</th>\n",
       "      <th>Weather</th>\n",
       "      <th>Year</th>\n",
       "    </tr>\n",
       "  </thead>\n",
       "  <tbody>\n",
       "    <tr>\n",
       "      <th>0</th>\n",
       "      <td>2012-01-01 00:00:00</td>\n",
       "      <td>1</td>\n",
       "      <td>1</td>\n",
       "      <td>-1.8</td>\n",
       "      <td>-3.9</td>\n",
       "      <td>86</td>\n",
       "      <td>4</td>\n",
       "      <td>8.0</td>\n",
       "      <td>101.24</td>\n",
       "      <td>Fog</td>\n",
       "      <td>2012</td>\n",
       "    </tr>\n",
       "    <tr>\n",
       "      <th>1</th>\n",
       "      <td>2012-01-01 01:00:00</td>\n",
       "      <td>1</td>\n",
       "      <td>1</td>\n",
       "      <td>-1.8</td>\n",
       "      <td>-3.7</td>\n",
       "      <td>87</td>\n",
       "      <td>4</td>\n",
       "      <td>8.0</td>\n",
       "      <td>101.24</td>\n",
       "      <td>Fog</td>\n",
       "      <td>2012</td>\n",
       "    </tr>\n",
       "  </tbody>\n",
       "</table>\n",
       "</div>"
      ],
      "text/plain": [
       "            Date/Time  Day  Month  Temp_C  Dew Point Temp_C  Rel Hum_%  \\\n",
       "0 2012-01-01 00:00:00    1      1    -1.8              -3.9         86   \n",
       "1 2012-01-01 01:00:00    1      1    -1.8              -3.7         87   \n",
       "\n",
       "   Wind Speed_km/h  Visibility_km  Press_kPa Weather  Year  \n",
       "0                4            8.0     101.24     Fog  2012  \n",
       "1                4            8.0     101.24     Fog  2012  "
      ]
     },
     "execution_count": 12,
     "metadata": {},
     "output_type": "execute_result"
    }
   ],
   "source": [
    "df.head(2)"
   ]
  },
  {
   "cell_type": "code",
   "execution_count": 14,
   "id": "5ed60519",
   "metadata": {},
   "outputs": [],
   "source": [
    "# Inserting the Year column which is at last to 3rd index\n",
    "\n",
    "df.insert(3,'Year',df.pop('Year'))"
   ]
  },
  {
   "cell_type": "code",
   "execution_count": 15,
   "id": "7dae3804",
   "metadata": {},
   "outputs": [
    {
     "data": {
      "text/html": [
       "<div>\n",
       "<style scoped>\n",
       "    .dataframe tbody tr th:only-of-type {\n",
       "        vertical-align: middle;\n",
       "    }\n",
       "\n",
       "    .dataframe tbody tr th {\n",
       "        vertical-align: top;\n",
       "    }\n",
       "\n",
       "    .dataframe thead th {\n",
       "        text-align: right;\n",
       "    }\n",
       "</style>\n",
       "<table border=\"1\" class=\"dataframe\">\n",
       "  <thead>\n",
       "    <tr style=\"text-align: right;\">\n",
       "      <th></th>\n",
       "      <th>Date/Time</th>\n",
       "      <th>Day</th>\n",
       "      <th>Month</th>\n",
       "      <th>Year</th>\n",
       "      <th>Temp_C</th>\n",
       "      <th>Dew Point Temp_C</th>\n",
       "      <th>Rel Hum_%</th>\n",
       "      <th>Wind Speed_km/h</th>\n",
       "      <th>Visibility_km</th>\n",
       "      <th>Press_kPa</th>\n",
       "      <th>Weather</th>\n",
       "    </tr>\n",
       "  </thead>\n",
       "  <tbody>\n",
       "    <tr>\n",
       "      <th>0</th>\n",
       "      <td>2012-01-01 00:00:00</td>\n",
       "      <td>1</td>\n",
       "      <td>1</td>\n",
       "      <td>2012</td>\n",
       "      <td>-1.8</td>\n",
       "      <td>-3.9</td>\n",
       "      <td>86</td>\n",
       "      <td>4</td>\n",
       "      <td>8.0</td>\n",
       "      <td>101.24</td>\n",
       "      <td>Fog</td>\n",
       "    </tr>\n",
       "    <tr>\n",
       "      <th>1</th>\n",
       "      <td>2012-01-01 01:00:00</td>\n",
       "      <td>1</td>\n",
       "      <td>1</td>\n",
       "      <td>2012</td>\n",
       "      <td>-1.8</td>\n",
       "      <td>-3.7</td>\n",
       "      <td>87</td>\n",
       "      <td>4</td>\n",
       "      <td>8.0</td>\n",
       "      <td>101.24</td>\n",
       "      <td>Fog</td>\n",
       "    </tr>\n",
       "  </tbody>\n",
       "</table>\n",
       "</div>"
      ],
      "text/plain": [
       "            Date/Time  Day  Month  Year  Temp_C  Dew Point Temp_C  Rel Hum_%  \\\n",
       "0 2012-01-01 00:00:00    1      1  2012    -1.8              -3.9         86   \n",
       "1 2012-01-01 01:00:00    1      1  2012    -1.8              -3.7         87   \n",
       "\n",
       "   Wind Speed_km/h  Visibility_km  Press_kPa Weather  \n",
       "0                4            8.0     101.24     Fog  \n",
       "1                4            8.0     101.24     Fog  "
      ]
     },
     "execution_count": 15,
     "metadata": {},
     "output_type": "execute_result"
    }
   ],
   "source": [
    "df.head(2)"
   ]
  },
  {
   "cell_type": "markdown",
   "id": "f5bb2d8d",
   "metadata": {},
   "source": [
    "## 1. What is the average temperature for each month in the dataset?"
   ]
  },
  {
   "cell_type": "code",
   "execution_count": 39,
   "id": "5f750661",
   "metadata": {
    "scrolled": true
   },
   "outputs": [
    {
     "data": {
      "text/plain": [
       "Month\n",
       "1     -7.371505\n",
       "2     -4.225000\n",
       "3      3.121237\n",
       "4      7.009306\n",
       "5     16.237769\n",
       "6     20.134028\n",
       "7     22.790054\n",
       "8     22.279301\n",
       "9     16.484444\n",
       "10    10.954973\n",
       "11     0.931389\n",
       "12    -3.306317\n",
       "Name: Temp_C, dtype: float64"
      ]
     },
     "execution_count": 39,
     "metadata": {},
     "output_type": "execute_result"
    }
   ],
   "source": [
    "df.groupby(['Month'])['Temp_C'].mean()\n",
    "\n",
    "# This will filter out the the data which we are required"
   ]
  },
  {
   "cell_type": "markdown",
   "id": "d0d8af57",
   "metadata": {},
   "source": [
    "### 1.1 Which month had the highest average temperature"
   ]
  },
  {
   "cell_type": "code",
   "execution_count": 157,
   "id": "db93dbfb",
   "metadata": {},
   "outputs": [
    {
     "data": {
      "text/plain": [
       "Month\n",
       "7     22.790054\n",
       "8     22.279301\n",
       "6     20.134028\n",
       "9     16.484444\n",
       "5     16.237769\n",
       "10    10.954973\n",
       "4      7.009306\n",
       "3      3.121237\n",
       "11     0.931389\n",
       "12    -3.306317\n",
       "2     -4.225000\n",
       "1     -7.371505\n",
       "Name: Temp_C, dtype: float64"
      ]
     },
     "execution_count": 157,
     "metadata": {},
     "output_type": "execute_result"
    }
   ],
   "source": [
    "df.groupby(['Month'])['Temp_C'].mean().sort_values(ascending = False)\n",
    "\n",
    "# df.groupby(['Month'])['Temp_C'].mean().sort_values(ascending = False).head(1) to see only first value"
   ]
  },
  {
   "cell_type": "markdown",
   "id": "e5b2c070",
   "metadata": {},
   "source": [
    "## 2. What is the average Temperature for the entire year ? "
   ]
  },
  {
   "cell_type": "code",
   "execution_count": 32,
   "id": "a53bbe56",
   "metadata": {},
   "outputs": [
    {
     "name": "stderr",
     "output_type": "stream",
     "text": [
      "C:\\Users\\Dell\\AppData\\Local\\Temp\\ipykernel_6464\\1112703792.py:1: FutureWarning: The default value of numeric_only in DataFrameGroupBy.mean is deprecated. In a future version, numeric_only will default to False. Either specify numeric_only or select only columns which should be valid for the function.\n",
      "  df.groupby('Year').mean()\n"
     ]
    },
    {
     "data": {
      "text/html": [
       "<div>\n",
       "<style scoped>\n",
       "    .dataframe tbody tr th:only-of-type {\n",
       "        vertical-align: middle;\n",
       "    }\n",
       "\n",
       "    .dataframe tbody tr th {\n",
       "        vertical-align: top;\n",
       "    }\n",
       "\n",
       "    .dataframe thead th {\n",
       "        text-align: right;\n",
       "    }\n",
       "</style>\n",
       "<table border=\"1\" class=\"dataframe\">\n",
       "  <thead>\n",
       "    <tr style=\"text-align: right;\">\n",
       "      <th></th>\n",
       "      <th>Day</th>\n",
       "      <th>Month</th>\n",
       "      <th>Temp_C</th>\n",
       "      <th>Dew Point Temp_C</th>\n",
       "      <th>Rel Hum_%</th>\n",
       "      <th>Wind Speed_km/h</th>\n",
       "      <th>Visibility_km</th>\n",
       "      <th>Press_kPa</th>\n",
       "    </tr>\n",
       "    <tr>\n",
       "      <th>Year</th>\n",
       "      <th></th>\n",
       "      <th></th>\n",
       "      <th></th>\n",
       "      <th></th>\n",
       "      <th></th>\n",
       "      <th></th>\n",
       "      <th></th>\n",
       "      <th></th>\n",
       "    </tr>\n",
       "  </thead>\n",
       "  <tbody>\n",
       "    <tr>\n",
       "      <th>2012</th>\n",
       "      <td>15.756831</td>\n",
       "      <td>6.513661</td>\n",
       "      <td>8.798144</td>\n",
       "      <td>2.555294</td>\n",
       "      <td>67.431694</td>\n",
       "      <td>14.945469</td>\n",
       "      <td>27.664447</td>\n",
       "      <td>101.051623</td>\n",
       "    </tr>\n",
       "  </tbody>\n",
       "</table>\n",
       "</div>"
      ],
      "text/plain": [
       "            Day     Month    Temp_C  Dew Point Temp_C  Rel Hum_%  \\\n",
       "Year                                                               \n",
       "2012  15.756831  6.513661  8.798144          2.555294  67.431694   \n",
       "\n",
       "      Wind Speed_km/h  Visibility_km   Press_kPa  \n",
       "Year                                              \n",
       "2012        14.945469      27.664447  101.051623  "
      ]
     },
     "execution_count": 32,
     "metadata": {},
     "output_type": "execute_result"
    }
   ],
   "source": [
    "df.groupby('Year').mean()"
   ]
  },
  {
   "cell_type": "code",
   "execution_count": 37,
   "id": "517c5adc",
   "metadata": {},
   "outputs": [
    {
     "data": {
      "text/plain": [
       "Year\n",
       "2012    8.798144\n",
       "Name: Temp_C, dtype: float64"
      ]
     },
     "execution_count": 37,
     "metadata": {},
     "output_type": "execute_result"
    }
   ],
   "source": [
    "df.groupby(['Year'])['Temp_C'].mean()"
   ]
  },
  {
   "cell_type": "markdown",
   "id": "ce6d6900",
   "metadata": {},
   "source": [
    "## 3. What is the highest temperature ever recorded in the datasets ?"
   ]
  },
  {
   "cell_type": "code",
   "execution_count": 44,
   "id": "a7019d71",
   "metadata": {},
   "outputs": [
    {
     "name": "stdout",
     "output_type": "stream",
     "text": [
      "Highest_Temp:  33.0\n"
     ]
    }
   ],
   "source": [
    "# df.head(2)\n",
    "\n",
    "Highest_Temp = df.Temp_C.max()\n",
    "print(\"Highest_Temp: \", Highest_Temp)"
   ]
  },
  {
   "cell_type": "markdown",
   "id": "6deeeed4",
   "metadata": {},
   "source": [
    "## 3. What is the lowest temperature ever recorded in the datasets ?"
   ]
  },
  {
   "cell_type": "code",
   "execution_count": 45,
   "id": "a03ee012",
   "metadata": {},
   "outputs": [
    {
     "name": "stdout",
     "output_type": "stream",
     "text": [
      "Lowest_Temp:  -23.3\n"
     ]
    }
   ],
   "source": [
    "Lowest_Temp = df.Temp_C.min()\n",
    "print(\"Lowest_Temp: \", Lowest_Temp)"
   ]
  },
  {
   "cell_type": "markdown",
   "id": "2d73ac84",
   "metadata": {},
   "source": [
    "## 4.How many days it rains in each month ?"
   ]
  },
  {
   "cell_type": "code",
   "execution_count": 65,
   "id": "aa935fad",
   "metadata": {
    "scrolled": true
   },
   "outputs": [
    {
     "data": {
      "text/plain": [
       "Month\n",
       "1     10\n",
       "2     21\n",
       "3     18\n",
       "4     55\n",
       "5     26\n",
       "6     53\n",
       "7      6\n",
       "8      9\n",
       "9     25\n",
       "10    32\n",
       "11    31\n",
       "12    20\n",
       "Name: Day, dtype: int64"
      ]
     },
     "execution_count": 65,
     "metadata": {},
     "output_type": "execute_result"
    }
   ],
   "source": [
    "rainy_days = df[df.Weather =='Rain'].groupby('Month')['Day'].count()\n",
    "rainy_days\n",
    "# This shows the data of full day rain"
   ]
  },
  {
   "cell_type": "markdown",
   "id": "e6917807",
   "metadata": {},
   "source": [
    "### 4.1. What is the percentage of rainy days in each month ?"
   ]
  },
  {
   "cell_type": "code",
   "execution_count": 185,
   "id": "90abdc68",
   "metadata": {},
   "outputs": [
    {
     "data": {
      "text/plain": [
       "Month\n",
       "1     31\n",
       "2     29\n",
       "3     31\n",
       "4     30\n",
       "5     31\n",
       "6     30\n",
       "7     31\n",
       "8     31\n",
       "9     30\n",
       "10    31\n",
       "11    30\n",
       "12    31\n",
       "Name: Day, dtype: int64"
      ]
     },
     "execution_count": 185,
     "metadata": {},
     "output_type": "execute_result"
    }
   ],
   "source": [
    "# % of rain = (rainy days in month/Total days in month) * 100\n",
    "\n",
    "total_days = df.groupby('Month')['Day'].nunique()\n",
    "total_days"
   ]
  },
  {
   "cell_type": "code",
   "execution_count": 188,
   "id": "b6e4e7ac",
   "metadata": {},
   "outputs": [
    {
     "data": {
      "text/plain": [
       "Month\n",
       "1      32.3\n",
       "2      72.4\n",
       "3      58.1\n",
       "4     183.3\n",
       "5      83.9\n",
       "6     176.7\n",
       "7      19.4\n",
       "8      29.0\n",
       "9      83.3\n",
       "10    103.2\n",
       "11    103.3\n",
       "12     64.5\n",
       "Name: Day, dtype: float64"
      ]
     },
     "execution_count": 188,
     "metadata": {},
     "output_type": "execute_result"
    }
   ],
   "source": [
    "perc_of_rainy_days = (rainy_days/total_days)*100\n",
    "perc_of_rainy_days.round(1)"
   ]
  },
  {
   "cell_type": "code",
   "execution_count": 64,
   "id": "193cbb9e",
   "metadata": {},
   "outputs": [
    {
     "data": {
      "text/plain": [
       "Month\n",
       "1     29\n",
       "2     32\n",
       "3     46\n",
       "4     94\n",
       "5     77\n",
       "6     77\n",
       "7     27\n",
       "8     42\n",
       "9     57\n",
       "10    87\n",
       "11    49\n",
       "12    72\n",
       "Name: Day, dtype: int64"
      ]
     },
     "execution_count": 64,
     "metadata": {},
     "output_type": "execute_result"
    }
   ],
   "source": [
    "# df.head(2)\n",
    "# df.Weather.unique()\n",
    "\n",
    "rainy_days = df[df.Weather.str.contains('Rain')].groupby('Month')['Day'].count()\n",
    "rainy_days\n",
    "\n",
    "# This shows data of rains occuring on that day irrespective of full day rain"
   ]
  },
  {
   "cell_type": "markdown",
   "id": "ecdbf264",
   "metadata": {},
   "source": [
    "## 5. What is the average wind speed in each month ?"
   ]
  },
  {
   "cell_type": "code",
   "execution_count": 79,
   "id": "5a63ff2e",
   "metadata": {},
   "outputs": [
    {
     "data": {
      "text/plain": [
       "Month\n",
       "1     18.11\n",
       "2     14.84\n",
       "3     14.51\n",
       "4     17.37\n",
       "5     12.85\n",
       "6     14.68\n",
       "7     11.89\n",
       "8     13.93\n",
       "9     14.11\n",
       "10    15.48\n",
       "11    13.97\n",
       "12    17.61\n",
       "Name: Wind Speed_km/h, dtype: float64"
      ]
     },
     "execution_count": 79,
     "metadata": {},
     "output_type": "execute_result"
    }
   ],
   "source": [
    "df.head(2)\n",
    "df.groupby('Month')['Wind Speed_km/h'].mean().round(2)"
   ]
  },
  {
   "cell_type": "markdown",
   "id": "3ac8073e",
   "metadata": {},
   "source": [
    "## 6. How many days have temperature above than 32C ?"
   ]
  },
  {
   "cell_type": "code",
   "execution_count": 101,
   "id": "f4aa152a",
   "metadata": {},
   "outputs": [
    {
     "data": {
      "text/html": [
       "<div>\n",
       "<style scoped>\n",
       "    .dataframe tbody tr th:only-of-type {\n",
       "        vertical-align: middle;\n",
       "    }\n",
       "\n",
       "    .dataframe tbody tr th {\n",
       "        vertical-align: top;\n",
       "    }\n",
       "\n",
       "    .dataframe thead th {\n",
       "        text-align: right;\n",
       "    }\n",
       "</style>\n",
       "<table border=\"1\" class=\"dataframe\">\n",
       "  <thead>\n",
       "    <tr style=\"text-align: right;\">\n",
       "      <th></th>\n",
       "      <th>Date/Time</th>\n",
       "      <th>Day</th>\n",
       "      <th>Month</th>\n",
       "      <th>Year</th>\n",
       "      <th>Temp_C</th>\n",
       "      <th>Dew Point Temp_C</th>\n",
       "      <th>Rel Hum_%</th>\n",
       "      <th>Wind Speed_km/h</th>\n",
       "      <th>Visibility_km</th>\n",
       "      <th>Press_kPa</th>\n",
       "      <th>Weather</th>\n",
       "    </tr>\n",
       "  </thead>\n",
       "  <tbody>\n",
       "    <tr>\n",
       "      <th>4119</th>\n",
       "      <td>2012-06-20 15:00:00</td>\n",
       "      <td>20</td>\n",
       "      <td>6</td>\n",
       "      <td>2012</td>\n",
       "      <td>32.2</td>\n",
       "      <td>19.6</td>\n",
       "      <td>47</td>\n",
       "      <td>22</td>\n",
       "      <td>24.1</td>\n",
       "      <td>100.75</td>\n",
       "      <td>Mainly Clear</td>\n",
       "    </tr>\n",
       "    <tr>\n",
       "      <th>4120</th>\n",
       "      <td>2012-06-20 16:00:00</td>\n",
       "      <td>20</td>\n",
       "      <td>6</td>\n",
       "      <td>2012</td>\n",
       "      <td>32.2</td>\n",
       "      <td>20.0</td>\n",
       "      <td>49</td>\n",
       "      <td>26</td>\n",
       "      <td>24.1</td>\n",
       "      <td>100.74</td>\n",
       "      <td>Mainly Clear</td>\n",
       "    </tr>\n",
       "    <tr>\n",
       "      <th>4121</th>\n",
       "      <td>2012-06-20 17:00:00</td>\n",
       "      <td>20</td>\n",
       "      <td>6</td>\n",
       "      <td>2012</td>\n",
       "      <td>32.3</td>\n",
       "      <td>20.3</td>\n",
       "      <td>49</td>\n",
       "      <td>15</td>\n",
       "      <td>24.1</td>\n",
       "      <td>100.69</td>\n",
       "      <td>Mainly Clear</td>\n",
       "    </tr>\n",
       "    <tr>\n",
       "      <th>4122</th>\n",
       "      <td>2012-06-20 18:00:00</td>\n",
       "      <td>20</td>\n",
       "      <td>6</td>\n",
       "      <td>2012</td>\n",
       "      <td>32.4</td>\n",
       "      <td>19.9</td>\n",
       "      <td>48</td>\n",
       "      <td>17</td>\n",
       "      <td>24.1</td>\n",
       "      <td>100.61</td>\n",
       "      <td>Mostly Cloudy</td>\n",
       "    </tr>\n",
       "    <tr>\n",
       "      <th>4142</th>\n",
       "      <td>2012-06-21 14:00:00</td>\n",
       "      <td>21</td>\n",
       "      <td>6</td>\n",
       "      <td>2012</td>\n",
       "      <td>32.6</td>\n",
       "      <td>20.4</td>\n",
       "      <td>49</td>\n",
       "      <td>20</td>\n",
       "      <td>24.1</td>\n",
       "      <td>100.25</td>\n",
       "      <td>Mainly Clear</td>\n",
       "    </tr>\n",
       "    <tr>\n",
       "      <th>4143</th>\n",
       "      <td>2012-06-21 15:00:00</td>\n",
       "      <td>21</td>\n",
       "      <td>6</td>\n",
       "      <td>2012</td>\n",
       "      <td>33.0</td>\n",
       "      <td>19.0</td>\n",
       "      <td>44</td>\n",
       "      <td>24</td>\n",
       "      <td>24.1</td>\n",
       "      <td>100.20</td>\n",
       "      <td>Mainly Clear</td>\n",
       "    </tr>\n",
       "    <tr>\n",
       "      <th>4144</th>\n",
       "      <td>2012-06-21 16:00:00</td>\n",
       "      <td>21</td>\n",
       "      <td>6</td>\n",
       "      <td>2012</td>\n",
       "      <td>32.5</td>\n",
       "      <td>17.9</td>\n",
       "      <td>42</td>\n",
       "      <td>24</td>\n",
       "      <td>24.1</td>\n",
       "      <td>100.14</td>\n",
       "      <td>Mainly Clear</td>\n",
       "    </tr>\n",
       "    <tr>\n",
       "      <th>4145</th>\n",
       "      <td>2012-06-21 17:00:00</td>\n",
       "      <td>21</td>\n",
       "      <td>6</td>\n",
       "      <td>2012</td>\n",
       "      <td>32.1</td>\n",
       "      <td>17.9</td>\n",
       "      <td>43</td>\n",
       "      <td>30</td>\n",
       "      <td>24.1</td>\n",
       "      <td>100.09</td>\n",
       "      <td>Mainly Clear</td>\n",
       "    </tr>\n",
       "    <tr>\n",
       "      <th>4670</th>\n",
       "      <td>2012-07-13 14:00:00</td>\n",
       "      <td>13</td>\n",
       "      <td>7</td>\n",
       "      <td>2012</td>\n",
       "      <td>32.1</td>\n",
       "      <td>10.2</td>\n",
       "      <td>26</td>\n",
       "      <td>20</td>\n",
       "      <td>48.3</td>\n",
       "      <td>101.49</td>\n",
       "      <td>Mainly Clear</td>\n",
       "    </tr>\n",
       "    <tr>\n",
       "      <th>4694</th>\n",
       "      <td>2012-07-14 14:00:00</td>\n",
       "      <td>14</td>\n",
       "      <td>7</td>\n",
       "      <td>2012</td>\n",
       "      <td>32.7</td>\n",
       "      <td>15.3</td>\n",
       "      <td>35</td>\n",
       "      <td>28</td>\n",
       "      <td>48.3</td>\n",
       "      <td>101.35</td>\n",
       "      <td>Mainly Clear</td>\n",
       "    </tr>\n",
       "    <tr>\n",
       "      <th>4695</th>\n",
       "      <td>2012-07-14 15:00:00</td>\n",
       "      <td>14</td>\n",
       "      <td>7</td>\n",
       "      <td>2012</td>\n",
       "      <td>33.0</td>\n",
       "      <td>16.8</td>\n",
       "      <td>38</td>\n",
       "      <td>22</td>\n",
       "      <td>48.3</td>\n",
       "      <td>101.31</td>\n",
       "      <td>Mainly Clear</td>\n",
       "    </tr>\n",
       "    <tr>\n",
       "      <th>4696</th>\n",
       "      <td>2012-07-14 16:00:00</td>\n",
       "      <td>14</td>\n",
       "      <td>7</td>\n",
       "      <td>2012</td>\n",
       "      <td>32.9</td>\n",
       "      <td>15.3</td>\n",
       "      <td>35</td>\n",
       "      <td>24</td>\n",
       "      <td>48.3</td>\n",
       "      <td>101.26</td>\n",
       "      <td>Mainly Clear</td>\n",
       "    </tr>\n",
       "    <tr>\n",
       "      <th>4697</th>\n",
       "      <td>2012-07-14 17:00:00</td>\n",
       "      <td>14</td>\n",
       "      <td>7</td>\n",
       "      <td>2012</td>\n",
       "      <td>32.5</td>\n",
       "      <td>16.5</td>\n",
       "      <td>38</td>\n",
       "      <td>19</td>\n",
       "      <td>48.3</td>\n",
       "      <td>101.22</td>\n",
       "      <td>Mainly Clear</td>\n",
       "    </tr>\n",
       "    <tr>\n",
       "      <th>5199</th>\n",
       "      <td>2012-08-04 15:00:00</td>\n",
       "      <td>4</td>\n",
       "      <td>8</td>\n",
       "      <td>2012</td>\n",
       "      <td>32.8</td>\n",
       "      <td>18.8</td>\n",
       "      <td>44</td>\n",
       "      <td>17</td>\n",
       "      <td>24.1</td>\n",
       "      <td>101.39</td>\n",
       "      <td>Clear</td>\n",
       "    </tr>\n",
       "    <tr>\n",
       "      <th>5200</th>\n",
       "      <td>2012-08-04 16:00:00</td>\n",
       "      <td>4</td>\n",
       "      <td>8</td>\n",
       "      <td>2012</td>\n",
       "      <td>32.5</td>\n",
       "      <td>18.5</td>\n",
       "      <td>44</td>\n",
       "      <td>15</td>\n",
       "      <td>24.1</td>\n",
       "      <td>101.34</td>\n",
       "      <td>Clear</td>\n",
       "    </tr>\n",
       "    <tr>\n",
       "      <th>5201</th>\n",
       "      <td>2012-08-04 17:00:00</td>\n",
       "      <td>4</td>\n",
       "      <td>8</td>\n",
       "      <td>2012</td>\n",
       "      <td>32.5</td>\n",
       "      <td>19.8</td>\n",
       "      <td>47</td>\n",
       "      <td>13</td>\n",
       "      <td>24.1</td>\n",
       "      <td>101.32</td>\n",
       "      <td>Clear</td>\n",
       "    </tr>\n",
       "    <tr>\n",
       "      <th>5202</th>\n",
       "      <td>2012-08-04 18:00:00</td>\n",
       "      <td>4</td>\n",
       "      <td>8</td>\n",
       "      <td>2012</td>\n",
       "      <td>32.2</td>\n",
       "      <td>20.1</td>\n",
       "      <td>49</td>\n",
       "      <td>13</td>\n",
       "      <td>24.1</td>\n",
       "      <td>101.29</td>\n",
       "      <td>Mostly Cloudy</td>\n",
       "    </tr>\n",
       "  </tbody>\n",
       "</table>\n",
       "</div>"
      ],
      "text/plain": [
       "               Date/Time  Day  Month  Year  Temp_C  Dew Point Temp_C  \\\n",
       "4119 2012-06-20 15:00:00   20      6  2012    32.2              19.6   \n",
       "4120 2012-06-20 16:00:00   20      6  2012    32.2              20.0   \n",
       "4121 2012-06-20 17:00:00   20      6  2012    32.3              20.3   \n",
       "4122 2012-06-20 18:00:00   20      6  2012    32.4              19.9   \n",
       "4142 2012-06-21 14:00:00   21      6  2012    32.6              20.4   \n",
       "4143 2012-06-21 15:00:00   21      6  2012    33.0              19.0   \n",
       "4144 2012-06-21 16:00:00   21      6  2012    32.5              17.9   \n",
       "4145 2012-06-21 17:00:00   21      6  2012    32.1              17.9   \n",
       "4670 2012-07-13 14:00:00   13      7  2012    32.1              10.2   \n",
       "4694 2012-07-14 14:00:00   14      7  2012    32.7              15.3   \n",
       "4695 2012-07-14 15:00:00   14      7  2012    33.0              16.8   \n",
       "4696 2012-07-14 16:00:00   14      7  2012    32.9              15.3   \n",
       "4697 2012-07-14 17:00:00   14      7  2012    32.5              16.5   \n",
       "5199 2012-08-04 15:00:00    4      8  2012    32.8              18.8   \n",
       "5200 2012-08-04 16:00:00    4      8  2012    32.5              18.5   \n",
       "5201 2012-08-04 17:00:00    4      8  2012    32.5              19.8   \n",
       "5202 2012-08-04 18:00:00    4      8  2012    32.2              20.1   \n",
       "\n",
       "      Rel Hum_%  Wind Speed_km/h  Visibility_km  Press_kPa        Weather  \n",
       "4119         47               22           24.1     100.75   Mainly Clear  \n",
       "4120         49               26           24.1     100.74   Mainly Clear  \n",
       "4121         49               15           24.1     100.69   Mainly Clear  \n",
       "4122         48               17           24.1     100.61  Mostly Cloudy  \n",
       "4142         49               20           24.1     100.25   Mainly Clear  \n",
       "4143         44               24           24.1     100.20   Mainly Clear  \n",
       "4144         42               24           24.1     100.14   Mainly Clear  \n",
       "4145         43               30           24.1     100.09   Mainly Clear  \n",
       "4670         26               20           48.3     101.49   Mainly Clear  \n",
       "4694         35               28           48.3     101.35   Mainly Clear  \n",
       "4695         38               22           48.3     101.31   Mainly Clear  \n",
       "4696         35               24           48.3     101.26   Mainly Clear  \n",
       "4697         38               19           48.3     101.22   Mainly Clear  \n",
       "5199         44               17           24.1     101.39          Clear  \n",
       "5200         44               15           24.1     101.34          Clear  \n",
       "5201         47               13           24.1     101.32          Clear  \n",
       "5202         49               13           24.1     101.29  Mostly Cloudy  "
      ]
     },
     "execution_count": 101,
     "metadata": {},
     "output_type": "execute_result"
    }
   ],
   "source": [
    "# df.head(50)\n",
    "\n",
    "df[df['Temp_C'] > 32]\n",
    "\n",
    "# df[df['Temp_C'] > 32].shape to find number of rows or count of Days"
   ]
  },
  {
   "cell_type": "markdown",
   "id": "60425ac7",
   "metadata": {},
   "source": [
    "## 7. Whats is the avarage temperature on weekends vs weekdays ?"
   ]
  },
  {
   "cell_type": "code",
   "execution_count": 111,
   "id": "b73628c1",
   "metadata": {},
   "outputs": [],
   "source": [
    "# df.head(2)\n",
    "# Need to insert a column name 'Day_Name'\n",
    "\n",
    "df.insert(2,'Day_Name', df['Date/Time'].dt.day_name())"
   ]
  },
  {
   "cell_type": "code",
   "execution_count": 114,
   "id": "d0f7698e",
   "metadata": {},
   "outputs": [
    {
     "data": {
      "text/plain": [
       "Day_Name\n",
       "Friday       9.4\n",
       "Monday       8.9\n",
       "Saturday     8.4\n",
       "Sunday       7.9\n",
       "Thursday     9.5\n",
       "Tuesday      8.9\n",
       "Wednesday    8.8\n",
       "Name: Temp_C, dtype: float64"
      ]
     },
     "execution_count": 114,
     "metadata": {},
     "output_type": "execute_result"
    }
   ],
   "source": [
    "# df.head()\n",
    "# Showing average temperature of each days\n",
    "\n",
    "df.groupby('Day_Name')['Temp_C'].mean().round(1)"
   ]
  },
  {
   "cell_type": "code",
   "execution_count": 138,
   "id": "1b9b31e0",
   "metadata": {},
   "outputs": [],
   "source": [
    "# df.head(2)\n",
    "# Filtering out Weekday and Weekend\n",
    "\n",
    "day_type = lambda Day_Name: 'Weekend' if Day_Name in ['Saturday', 'Sunday'] else 'Weekday'\n",
    "\n",
    "# Inserting a new column with Weekday & Weekend\n",
    "\n",
    "df['Day_Type'] = df['Day_Name'].apply(day_type)"
   ]
  },
  {
   "cell_type": "code",
   "execution_count": 145,
   "id": "a5f99c9c",
   "metadata": {},
   "outputs": [
    {
     "data": {
      "text/plain": [
       "Day_Type\n",
       "Weekday    9.1\n",
       "Weekend    8.1\n",
       "Name: Temp_C, dtype: float64"
      ]
     },
     "execution_count": 145,
     "metadata": {},
     "output_type": "execute_result"
    }
   ],
   "source": [
    "# df.head(2)\n",
    "\n",
    "df.groupby('Day_Type')['Temp_C'].mean().round(1)"
   ]
  },
  {
   "cell_type": "markdown",
   "id": "45cbfaa3",
   "metadata": {},
   "source": [
    "## 8. At what time it rains the most ?"
   ]
  },
  {
   "cell_type": "code",
   "execution_count": 189,
   "id": "7df987db",
   "metadata": {},
   "outputs": [],
   "source": [
    "# Inserting Time column\n",
    "\n",
    "df['Time'] = df['Date/Time'].dt.time\n",
    "df.insert(5,'Time', df.pop('Time'))\n",
    "df.head()"
   ]
  },
  {
   "cell_type": "code",
   "execution_count": 201,
   "id": "6fa98301",
   "metadata": {},
   "outputs": [
    {
     "data": {
      "text/plain": [
       "Time\n",
       "19:00:00    22\n",
       "04:00:00    16\n",
       "21:00:00    16\n",
       "20:00:00    16\n",
       "05:00:00    15\n",
       "00:00:00    14\n",
       "16:00:00    14\n",
       "18:00:00    14\n",
       "17:00:00    14\n",
       "02:00:00    13\n",
       "07:00:00    13\n",
       "08:00:00    13\n",
       "22:00:00    12\n",
       "23:00:00    12\n",
       "06:00:00    12\n",
       "15:00:00    11\n",
       "13:00:00    11\n",
       "01:00:00    11\n",
       "03:00:00    11\n",
       "11:00:00    10\n",
       "09:00:00    10\n",
       "14:00:00     9\n",
       "12:00:00     9\n",
       "10:00:00     8\n",
       "Name: Weather, dtype: int64"
      ]
     },
     "execution_count": 201,
     "metadata": {},
     "output_type": "execute_result"
    }
   ],
   "source": [
    "df[df['Weather'] == 'Rain'].groupby('Time')['Weather'].count().sort_values(ascending=False)"
   ]
  },
  {
   "cell_type": "markdown",
   "id": "689e7efe",
   "metadata": {},
   "source": [
    "## 9. What is the percentage of full rainy day on  Weekends vs Weekdays"
   ]
  },
  {
   "cell_type": "code",
   "execution_count": 212,
   "id": "0cb70b5a",
   "metadata": {},
   "outputs": [
    {
     "name": "stdout",
     "output_type": "stream",
     "text": [
      "30.2%\n"
     ]
    }
   ],
   "source": [
    "df[df['Weather'] == 'Rain'].groupby('Day_Type')['Weather'].count()\n",
    "\n",
    "Req_Per = round((71/235)*100,1)\n",
    "print(str(Req_Per)+'%')"
   ]
  }
 ],
 "metadata": {
  "kernelspec": {
   "display_name": "Python 3 (ipykernel)",
   "language": "python",
   "name": "python3"
  },
  "language_info": {
   "codemirror_mode": {
    "name": "ipython",
    "version": 3
   },
   "file_extension": ".py",
   "mimetype": "text/x-python",
   "name": "python",
   "nbconvert_exporter": "python",
   "pygments_lexer": "ipython3",
   "version": "3.10.7"
  }
 },
 "nbformat": 4,
 "nbformat_minor": 5
}
